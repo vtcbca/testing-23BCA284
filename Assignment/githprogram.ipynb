{
 "cells": [
  {
   "cell_type": "markdown",
   "id": "a21a9b95-c323-4107-ba22-0211c2ca6290",
   "metadata": {},
   "source": [
    "1.WRITE A PROGRAM TO CREATE ONE TEXT FILE \"PYTHON.TXT\".\n",
    "2.WRITE 15 LINES FROM USER IN IT.\n",
    "3.TAKE USER INPUT WORD WHICH YOU WANT TO FIND,AND REPLACE IT WITH APPROPRIATE REPLACEMENT WORD."
   ]
  },
  {
   "cell_type": "markdown",
   "id": "5716d669-68e9-4747-8a3d-37706d19542f",
   "metadata": {},
   "source": [
    "## CREATE A TEXT FILE."
   ]
  },
  {
   "cell_type": "code",
   "execution_count": 42,
   "id": "84aad580-8860-4f0f-b426-e4c6d58df117",
   "metadata": {},
   "outputs": [],
   "source": [
    "f=open(\"D:\\\\pythontextfile\\\\python.txt\",\"w\")"
   ]
  },
  {
   "cell_type": "markdown",
   "id": "3cb4bbb1-ad32-4025-92fd-5326a72ce3d7",
   "metadata": {},
   "source": [
    "## WRITE 15 LINES FROM USER."
   ]
  },
  {
   "cell_type": "code",
   "execution_count": 44,
   "id": "7b852f30-896e-4fd3-8bb5-3c61a6ba7016",
   "metadata": {},
   "outputs": [
    {
     "name": "stdin",
     "output_type": "stream",
     "text": [
      "  Information Technology is the study of computer systems.\n",
      " Scientific discoveries have given birth to Information Technology.\n",
      " The IT sector is one of the fastest-growing sectors in the world. \n",
      " The IT sector includes IT services, e-commerce, the Internet, Software etc.\n",
      "  IT sector helps boost productivity and efficiency.\n",
      " oop stands for object oriented programing.\n",
      " C langauage is a procedural oriented programming.\n",
      " html used for website design.\n",
      "  bootstrap is a free and open source .\n",
      " bootsrap is resposive,franted framwork.\n",
      " python is a programming language.\n",
      "  javascript also used for website design.\n",
      " Google is a one type of search engine.\n",
      " Githhub is a devloper platform.\n",
      " Githhub is a cloud bassed platform.\n",
      " \n"
     ]
    }
   ],
   "source": [
    "line=[]\n",
    "while True:\n",
    "    l=input()\n",
    "    if l:\n",
    "        line.append(l+\"\\n\")\n",
    "    else:\n",
    "        break\n",
    "text=\"\\n\".join(line)"
   ]
  },
  {
   "cell_type": "code",
   "execution_count": 45,
   "id": "6d070c21-355e-49cd-b835-ee9ae9096559",
   "metadata": {},
   "outputs": [],
   "source": [
    "f.writelines(line)"
   ]
  },
  {
   "cell_type": "code",
   "execution_count": 46,
   "id": "14905a1c-f3b8-4a30-ba3e-711d890c8fd8",
   "metadata": {},
   "outputs": [],
   "source": [
    "f.close()"
   ]
  },
  {
   "cell_type": "markdown",
   "id": "6c7100b1-c265-4959-babd-7ff6dde454a8",
   "metadata": {},
   "source": [
    "## TAKE USER INPUT WORD WHICH YOU WANT TO FIND, AND REPLACE IT WITH APPROPRIATE REPLACEMENT WORD."
   ]
  },
  {
   "cell_type": "code",
   "execution_count": 47,
   "id": "ac23e3bd-55aa-40c1-ad11-8141d7e2704a",
   "metadata": {},
   "outputs": [],
   "source": [
    "f=open(\"D:\\\\pythontextfile\\\\python.txt\",\"r\")"
   ]
  },
  {
   "cell_type": "code",
   "execution_count": 48,
   "id": "6a36f183-6c2b-4b85-a1e7-25caecd73a0e",
   "metadata": {},
   "outputs": [],
   "source": [
    "l=f.read()"
   ]
  },
  {
   "cell_type": "code",
   "execution_count": 49,
   "id": "f4e81638-b1cc-4464-8688-55ba8855a79a",
   "metadata": {},
   "outputs": [
    {
     "name": "stdin",
     "output_type": "stream",
     "text": [
      "Enter the word you want to find: IT\n"
     ]
    }
   ],
   "source": [
    "word_to_find=input(\"Enter the word you want to find:\")"
   ]
  },
  {
   "cell_type": "code",
   "execution_count": 50,
   "id": "4c46b234-f537-4e13-8198-f2e04e1eca0b",
   "metadata": {},
   "outputs": [
    {
     "name": "stdin",
     "output_type": "stream",
     "text": [
      "Enter the word to replace 'IT' with: Information technology\n"
     ]
    }
   ],
   "source": [
    "replacement_word=input(f\"Enter the word to replace '{word_to_find}' with:\")"
   ]
  },
  {
   "cell_type": "markdown",
   "id": "f93a18cf-12a1-4d2c-b45e-eec1df4c6c75",
   "metadata": {},
   "source": [
    "## REPLACE THE WORD IN THE CONTENT"
   ]
  },
  {
   "cell_type": "code",
   "execution_count": 51,
   "id": "5fde6882-cb31-4f64-af62-e23d5de0272c",
   "metadata": {},
   "outputs": [],
   "source": [
    "update_contend=l.replace(word_to_find,replacement_word) #replace() is a in-built function"
   ]
  },
  {
   "cell_type": "markdown",
   "id": "ce41f3aa-5efa-4272-9862-f471bced9889",
   "metadata": {},
   "source": [
    "## WRITE THE UPDATED CONTEND BACK TO THE FILE."
   ]
  },
  {
   "cell_type": "code",
   "execution_count": 52,
   "id": "57976cbd-c38a-474d-a4db-9f9b13cd1be1",
   "metadata": {},
   "outputs": [],
   "source": [
    "f.close()"
   ]
  },
  {
   "cell_type": "code",
   "execution_count": 53,
   "id": "46c34b49-813e-431a-bf40-afa2d761440a",
   "metadata": {},
   "outputs": [],
   "source": [
    "f=open(\"D:\\\\pythontextfile\\\\python.txt\",\"w\")"
   ]
  },
  {
   "cell_type": "code",
   "execution_count": 54,
   "id": "ca1c42bb-9a92-4123-83cc-fc7951d557ba",
   "metadata": {},
   "outputs": [
    {
     "data": {
      "text/plain": [
       "785"
      ]
     },
     "execution_count": 54,
     "metadata": {},
     "output_type": "execute_result"
    }
   ],
   "source": [
    "f.write(update_contend)"
   ]
  },
  {
   "cell_type": "code",
   "execution_count": 55,
   "id": "98d2d11f-5e16-46bc-a3d9-345c85d6b28c",
   "metadata": {},
   "outputs": [],
   "source": [
    "f.close()"
   ]
  },
  {
   "cell_type": "code",
   "execution_count": 56,
   "id": "3e417d3f-924d-4f14-8f02-17a199e85dc9",
   "metadata": {},
   "outputs": [],
   "source": [
    "f=open(\"D:\\\\pythontextfile\\\\python.txt\",\"r\")"
   ]
  },
  {
   "cell_type": "code",
   "execution_count": 57,
   "id": "cbcd5116-b3b3-4815-8e25-3486caba7e0c",
   "metadata": {},
   "outputs": [],
   "source": [
    "w=f.read()"
   ]
  },
  {
   "cell_type": "code",
   "execution_count": 58,
   "id": "46bf7a5c-ed88-443b-bbfc-39274c8639c3",
   "metadata": {},
   "outputs": [
    {
     "name": "stdout",
     "output_type": "stream",
     "text": [
      " Information Technology is the study of computer systems.\n",
      "Scientific discoveries have given birth to Information Technology.\n",
      "The Information technology sector is one of the fastest-growing sectors in the world. \n",
      "The Information technology sector includes Information technology services, e-commerce, the Internet, Software etc.\n",
      " Information technology sector helps boost productivity and efficiency.\n",
      "oop stands for object oriented programing.\n",
      "C langauage is a procedural oriented programming.\n",
      "html used for website design.\n",
      " bootstrap is a free and open source .\n",
      "bootsrap is resposive,franted framwork.\n",
      "python is a programming language.\n",
      " javascript also used for website design.\n",
      "Google is a one type of search engine.\n",
      "Githhub is a devloper platform.\n",
      "Githhub is a cloud bassed platform.\n",
      "\n"
     ]
    }
   ],
   "source": [
    "print(w)"
   ]
  },
  {
   "cell_type": "code",
   "execution_count": 59,
   "id": "3d5089df-54a0-41da-9cd1-5ec333ed5a5c",
   "metadata": {},
   "outputs": [],
   "source": [
    "f.close()"
   ]
  }
 ],
 "metadata": {
  "kernelspec": {
   "display_name": "Python 3 (ipykernel)",
   "language": "python",
   "name": "python3"
  },
  "language_info": {
   "codemirror_mode": {
    "name": "ipython",
    "version": 3
   },
   "file_extension": ".py",
   "mimetype": "text/x-python",
   "name": "python",
   "nbconvert_exporter": "python",
   "pygments_lexer": "ipython3",
   "version": "3.12.1"
  }
 },
 "nbformat": 4,
 "nbformat_minor": 5
}
